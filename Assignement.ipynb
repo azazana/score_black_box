{
 "cells": [
  {
   "cell_type": "code",
   "execution_count": 46,
   "id": "9758a306",
   "metadata": {},
   "outputs": [],
   "source": [
    "import pandas as pd\n",
    "import numpy as np\n",
    "import sklearn\n",
    "import os\n",
    "\n",
    "from sklearn.preprocessing import MinMaxScaler, LabelEncoder\n",
    "from sklearn import tree, linear_model\n",
    "from sklearn.model_selection import cross_val_score\n",
    "from sklearn import metrics\n",
    "from sklearn.metrics import balanced_accuracy_score"
   ]
  },
  {
   "cell_type": "code",
   "execution_count": 2,
   "id": "92f1f451",
   "metadata": {},
   "outputs": [],
   "source": [
    "# импортируем таблицу\n",
    "table = pd.read_csv('table.csv', index_col='index')"
   ]
  },
  {
   "cell_type": "code",
   "execution_count": 3,
   "id": "d80a1d59",
   "metadata": {},
   "outputs": [
    {
     "data": {
      "text/html": [
       "<div>\n",
       "<style scoped>\n",
       "    .dataframe tbody tr th:only-of-type {\n",
       "        vertical-align: middle;\n",
       "    }\n",
       "\n",
       "    .dataframe tbody tr th {\n",
       "        vertical-align: top;\n",
       "    }\n",
       "\n",
       "    .dataframe thead th {\n",
       "        text-align: right;\n",
       "    }\n",
       "</style>\n",
       "<table border=\"1\" class=\"dataframe\">\n",
       "  <thead>\n",
       "    <tr style=\"text-align: right;\">\n",
       "      <th></th>\n",
       "      <th>Score</th>\n",
       "      <th>Action</th>\n",
       "    </tr>\n",
       "    <tr>\n",
       "      <th>index</th>\n",
       "      <th></th>\n",
       "      <th></th>\n",
       "    </tr>\n",
       "  </thead>\n",
       "  <tbody>\n",
       "    <tr>\n",
       "      <th>0</th>\n",
       "      <td>0.00</td>\n",
       "      <td>operator</td>\n",
       "    </tr>\n",
       "    <tr>\n",
       "      <th>1</th>\n",
       "      <td>19.55</td>\n",
       "      <td>reask</td>\n",
       "    </tr>\n",
       "    <tr>\n",
       "      <th>2</th>\n",
       "      <td>24.34</td>\n",
       "      <td>reask</td>\n",
       "    </tr>\n",
       "    <tr>\n",
       "      <th>3</th>\n",
       "      <td>29.26</td>\n",
       "      <td>reask</td>\n",
       "    </tr>\n",
       "    <tr>\n",
       "      <th>4</th>\n",
       "      <td>0.00</td>\n",
       "      <td>operator</td>\n",
       "    </tr>\n",
       "  </tbody>\n",
       "</table>\n",
       "</div>"
      ],
      "text/plain": [
       "       Score    Action\n",
       "index                 \n",
       "0       0.00  operator\n",
       "1      19.55     reask\n",
       "2      24.34     reask\n",
       "3      29.26     reask\n",
       "4       0.00  operator"
      ]
     },
     "execution_count": 3,
     "metadata": {},
     "output_type": "execute_result"
    }
   ],
   "source": [
    "# смотрим на структуру получившейся таблицы\n",
    "table.head()"
   ]
  },
  {
   "cell_type": "code",
   "execution_count": 4,
   "id": "a42fa1d6",
   "metadata": {},
   "outputs": [],
   "source": [
    "# несколько проверок на наличие косяков в данных: максимальный и минимальный score, количество уникальных действий\n",
    "# и наличие пропусков в таблице"
   ]
  },
  {
   "cell_type": "code",
   "execution_count": 5,
   "id": "8041fd7b",
   "metadata": {},
   "outputs": [
    {
     "data": {
      "text/plain": [
       "100.0"
      ]
     },
     "execution_count": 5,
     "metadata": {},
     "output_type": "execute_result"
    }
   ],
   "source": [
    "table['Score'].max()"
   ]
  },
  {
   "cell_type": "code",
   "execution_count": 6,
   "id": "824a52b3",
   "metadata": {},
   "outputs": [
    {
     "data": {
      "text/plain": [
       "0.0"
      ]
     },
     "execution_count": 6,
     "metadata": {},
     "output_type": "execute_result"
    }
   ],
   "source": [
    "table['Score'].min()"
   ]
  },
  {
   "cell_type": "code",
   "execution_count": 7,
   "id": "f9510583",
   "metadata": {},
   "outputs": [
    {
     "data": {
      "text/plain": [
       "array(['operator', 'reask', 'correct'], dtype=object)"
      ]
     },
     "execution_count": 7,
     "metadata": {},
     "output_type": "execute_result"
    }
   ],
   "source": [
    "table['Action'].unique()"
   ]
  },
  {
   "cell_type": "code",
   "execution_count": 8,
   "id": "50c7b679",
   "metadata": {},
   "outputs": [
    {
     "data": {
      "text/plain": [
       "False"
      ]
     },
     "execution_count": 8,
     "metadata": {},
     "output_type": "execute_result"
    }
   ],
   "source": [
    "table.isna().values.any()"
   ]
  },
  {
   "cell_type": "code",
   "execution_count": 9,
   "id": "342fad23",
   "metadata": {},
   "outputs": [],
   "source": [
    "# конвертируем score в понятный scikit-learn формат и масштабируем\n",
    "min_max_scaler = MinMaxScaler()\n",
    "X_train = min_max_scaler.fit_transform(table['Score'].to_numpy().reshape(-1, 1))"
   ]
  },
  {
   "cell_type": "code",
   "execution_count": null,
   "id": "d900b06a",
   "metadata": {},
   "outputs": [],
   "source": [
    "# выбираем классификатор с помощью кросс-валидации. Попробуем решающее дерево и логистическую регрессию\n",
    "# поскольку бизнес-логика нам неизвестна, в качестве метрик будем использовать balanced accuracy и f1"
   ]
  },
  {
   "cell_type": "code",
   "execution_count": 34,
   "id": "88fb6a85",
   "metadata": {},
   "outputs": [
    {
     "name": "stdout",
     "output_type": "stream",
     "text": [
      "Tree classifier has 0.62 f1 score with a standard deviation of 0.09\n",
      "Tree classifier has 0.71 accuracy with a standard deviation of 0.08\n"
     ]
    }
   ],
   "source": [
    "clf_tree = tree.DecisionTreeClassifier(max_depth=2, class_weight='balanced')\n",
    "scores = cross_val_score(clf_tree, X_train, table['Action'], cv=10, scoring='f1_weighted')\n",
    "print(\"Tree classifier has %0.2f f1 score with a standard deviation of %0.2f\" % (scores.mean(), scores.std()))\n",
    "scores = cross_val_score(clf_tree, X_train, table['Action'], cv=10, scoring='balanced_accuracy')\n",
    "print(\"Tree classifier has %0.2f accuracy with a standard deviation of %0.2f\" % (scores.mean(), scores.std()))"
   ]
  },
  {
   "cell_type": "code",
   "execution_count": 36,
   "id": "9170bdd4",
   "metadata": {},
   "outputs": [
    {
     "name": "stdout",
     "output_type": "stream",
     "text": [
      "Logistic regression classifier has 0.57 f1 score with a standard deviation of 0.08\n",
      "Logistic regression classifier has 0.68 accuracy with a standard deviation of 0.08\n"
     ]
    }
   ],
   "source": [
    "clf_logreg = linear_model.LogisticRegression(class_weight='balanced')\n",
    "scores = cross_val_score(clf_logreg, X_train, table['Action'], cv=10, scoring='f1_weighted')\n",
    "print(\"Logistic regression classifier has %0.2f f1 score with a standard deviation of %0.2f\" % (scores.mean(), scores.std()))\n",
    "scores = cross_val_score(clf_logreg, X_train, table['Action'], cv=10, scoring='balanced_accuracy')\n",
    "print(\"Logistic regression classifier has %0.2f accuracy with a standard deviation of %0.2f\" % (scores.mean(), scores.std()))"
   ]
  },
  {
   "cell_type": "code",
   "execution_count": 44,
   "id": "bdc3cc02",
   "metadata": {},
   "outputs": [],
   "source": [
    "# Метрики решающих деревьев чуть лучше, обучаем классфикатор\n",
    "clf_tree = tree.DecisionTreeClassifier(max_depth=2, class_weight='balanced')\n",
    "clf_tree = clf_tree.fit(X_train, table['Action'])"
   ]
  },
  {
   "cell_type": "code",
   "execution_count": 45,
   "id": "ef8fd5ac",
   "metadata": {},
   "outputs": [
    {
     "data": {
      "image/svg+xml": [
       "<?xml version=\"1.0\" encoding=\"UTF-8\" standalone=\"no\"?>\n",
       "<!DOCTYPE svg PUBLIC \"-//W3C//DTD SVG 1.1//EN\"\n",
       " \"http://www.w3.org/Graphics/SVG/1.1/DTD/svg11.dtd\">\n",
       "<!-- Generated by graphviz version 2.43.0 (0)\n",
       " -->\n",
       "<!-- Title: Tree Pages: 1 -->\n",
       "<svg width=\"853pt\" height=\"314pt\"\n",
       " viewBox=\"0.00 0.00 852.50 314.00\" xmlns=\"http://www.w3.org/2000/svg\" xmlns:xlink=\"http://www.w3.org/1999/xlink\">\n",
       "<g id=\"graph0\" class=\"graph\" transform=\"scale(1 1) rotate(0) translate(4 310)\">\n",
       "<title>Tree</title>\n",
       "<polygon fill=\"white\" stroke=\"transparent\" points=\"-4,4 -4,-310 848.5,-310 848.5,4 -4,4\"/>\n",
       "<!-- 0 -->\n",
       "<g id=\"node1\" class=\"node\">\n",
       "<title>0</title>\n",
       "<polygon fill=\"none\" stroke=\"black\" points=\"540,-306 307,-306 307,-223 540,-223 540,-306\"/>\n",
       "<text text-anchor=\"middle\" x=\"423.5\" y=\"-290.8\" font-family=\"Helvetica,sans-Serif\" font-size=\"14.00\">X[0] &lt;= 0.767</text>\n",
       "<text text-anchor=\"middle\" x=\"423.5\" y=\"-275.8\" font-family=\"Helvetica,sans-Serif\" font-size=\"14.00\">gini = 0.667</text>\n",
       "<text text-anchor=\"middle\" x=\"423.5\" y=\"-260.8\" font-family=\"Helvetica,sans-Serif\" font-size=\"14.00\">samples = 367</text>\n",
       "<text text-anchor=\"middle\" x=\"423.5\" y=\"-245.8\" font-family=\"Helvetica,sans-Serif\" font-size=\"14.00\">value = [122.333, 122.333, 122.333]</text>\n",
       "<text text-anchor=\"middle\" x=\"423.5\" y=\"-230.8\" font-family=\"Helvetica,sans-Serif\" font-size=\"14.00\">class = operator</text>\n",
       "</g>\n",
       "<!-- 1 -->\n",
       "<g id=\"node2\" class=\"node\">\n",
       "<title>1</title>\n",
       "<polygon fill=\"none\" stroke=\"black\" points=\"420.5,-187 202.5,-187 202.5,-104 420.5,-104 420.5,-187\"/>\n",
       "<text text-anchor=\"middle\" x=\"311.5\" y=\"-171.8\" font-family=\"Helvetica,sans-Serif\" font-size=\"14.00\">X[0] &lt;= 0.286</text>\n",
       "<text text-anchor=\"middle\" x=\"311.5\" y=\"-156.8\" font-family=\"Helvetica,sans-Serif\" font-size=\"14.00\">gini = 0.515</text>\n",
       "<text text-anchor=\"middle\" x=\"311.5\" y=\"-141.8\" font-family=\"Helvetica,sans-Serif\" font-size=\"14.00\">samples = 311</text>\n",
       "<text text-anchor=\"middle\" x=\"311.5\" y=\"-126.8\" font-family=\"Helvetica,sans-Serif\" font-size=\"14.00\">value = [3.495, 114.483, 113.897]</text>\n",
       "<text text-anchor=\"middle\" x=\"311.5\" y=\"-111.8\" font-family=\"Helvetica,sans-Serif\" font-size=\"14.00\">class = operator</text>\n",
       "</g>\n",
       "<!-- 0&#45;&gt;1 -->\n",
       "<g id=\"edge1\" class=\"edge\">\n",
       "<title>0&#45;&gt;1</title>\n",
       "<path fill=\"none\" stroke=\"black\" d=\"M384.64,-222.91C375.87,-213.74 366.47,-203.93 357.44,-194.49\"/>\n",
       "<polygon fill=\"black\" stroke=\"black\" points=\"359.73,-191.82 350.29,-187.02 354.68,-196.66 359.73,-191.82\"/>\n",
       "<text text-anchor=\"middle\" x=\"349.74\" y=\"-208.31\" font-family=\"Helvetica,sans-Serif\" font-size=\"14.00\">True</text>\n",
       "</g>\n",
       "<!-- 4 -->\n",
       "<g id=\"node5\" class=\"node\">\n",
       "<title>4</title>\n",
       "<polygon fill=\"none\" stroke=\"black\" points=\"634.5,-187 438.5,-187 438.5,-104 634.5,-104 634.5,-187\"/>\n",
       "<text text-anchor=\"middle\" x=\"536.5\" y=\"-171.8\" font-family=\"Helvetica,sans-Serif\" font-size=\"14.00\">X[0] &lt;= 0.812</text>\n",
       "<text text-anchor=\"middle\" x=\"536.5\" y=\"-156.8\" font-family=\"Helvetica,sans-Serif\" font-size=\"14.00\">gini = 0.219</text>\n",
       "<text text-anchor=\"middle\" x=\"536.5\" y=\"-141.8\" font-family=\"Helvetica,sans-Serif\" font-size=\"14.00\">samples = 56</text>\n",
       "<text text-anchor=\"middle\" x=\"536.5\" y=\"-126.8\" font-family=\"Helvetica,sans-Serif\" font-size=\"14.00\">value = [118.838, 7.85, 8.437]</text>\n",
       "<text text-anchor=\"middle\" x=\"536.5\" y=\"-111.8\" font-family=\"Helvetica,sans-Serif\" font-size=\"14.00\">class = correct</text>\n",
       "</g>\n",
       "<!-- 0&#45;&gt;4 -->\n",
       "<g id=\"edge4\" class=\"edge\">\n",
       "<title>0&#45;&gt;4</title>\n",
       "<path fill=\"none\" stroke=\"black\" d=\"M462.7,-222.91C471.56,-213.74 481.04,-203.93 490.15,-194.49\"/>\n",
       "<polygon fill=\"black\" stroke=\"black\" points=\"492.93,-196.65 497.36,-187.02 487.9,-191.78 492.93,-196.65\"/>\n",
       "<text text-anchor=\"middle\" x=\"497.8\" y=\"-208.32\" font-family=\"Helvetica,sans-Serif\" font-size=\"14.00\">False</text>\n",
       "</g>\n",
       "<!-- 2 -->\n",
       "<g id=\"node3\" class=\"node\">\n",
       "<title>2</title>\n",
       "<polygon fill=\"none\" stroke=\"black\" points=\"203,-68 0,-68 0,0 203,0 203,-68\"/>\n",
       "<text text-anchor=\"middle\" x=\"101.5\" y=\"-52.8\" font-family=\"Helvetica,sans-Serif\" font-size=\"14.00\">gini = 0.488</text>\n",
       "<text text-anchor=\"middle\" x=\"101.5\" y=\"-37.8\" font-family=\"Helvetica,sans-Serif\" font-size=\"14.00\">samples = 171</text>\n",
       "<text text-anchor=\"middle\" x=\"101.5\" y=\"-22.8\" font-family=\"Helvetica,sans-Serif\" font-size=\"14.00\">value = [3.495, 77.848, 43.028]</text>\n",
       "<text text-anchor=\"middle\" x=\"101.5\" y=\"-7.8\" font-family=\"Helvetica,sans-Serif\" font-size=\"14.00\">class = operator</text>\n",
       "</g>\n",
       "<!-- 1&#45;&gt;2 -->\n",
       "<g id=\"edge2\" class=\"edge\">\n",
       "<title>1&#45;&gt;2</title>\n",
       "<path fill=\"none\" stroke=\"black\" d=\"M233.6,-103.88C214.05,-93.69 193.16,-82.79 173.89,-72.75\"/>\n",
       "<polygon fill=\"black\" stroke=\"black\" points=\"175.36,-69.56 164.87,-68.04 172.12,-75.77 175.36,-69.56\"/>\n",
       "</g>\n",
       "<!-- 3 -->\n",
       "<g id=\"node4\" class=\"node\">\n",
       "<title>3</title>\n",
       "<polygon fill=\"none\" stroke=\"black\" points=\"409.5,-68 221.5,-68 221.5,0 409.5,0 409.5,-68\"/>\n",
       "<text text-anchor=\"middle\" x=\"315.5\" y=\"-52.8\" font-family=\"Helvetica,sans-Serif\" font-size=\"14.00\">gini = 0.449</text>\n",
       "<text text-anchor=\"middle\" x=\"315.5\" y=\"-37.8\" font-family=\"Helvetica,sans-Serif\" font-size=\"14.00\">samples = 140</text>\n",
       "<text text-anchor=\"middle\" x=\"315.5\" y=\"-22.8\" font-family=\"Helvetica,sans-Serif\" font-size=\"14.00\">value = [0.0, 36.635, 70.869]</text>\n",
       "<text text-anchor=\"middle\" x=\"315.5\" y=\"-7.8\" font-family=\"Helvetica,sans-Serif\" font-size=\"14.00\">class = reask</text>\n",
       "</g>\n",
       "<!-- 1&#45;&gt;3 -->\n",
       "<g id=\"edge3\" class=\"edge\">\n",
       "<title>1&#45;&gt;3</title>\n",
       "<path fill=\"none\" stroke=\"black\" d=\"M312.99,-103.73C313.29,-95.52 313.61,-86.86 313.91,-78.56\"/>\n",
       "<polygon fill=\"black\" stroke=\"black\" points=\"317.42,-78.42 314.28,-68.3 310.42,-78.17 317.42,-78.42\"/>\n",
       "</g>\n",
       "<!-- 5 -->\n",
       "<g id=\"node6\" class=\"node\">\n",
       "<title>5</title>\n",
       "<polygon fill=\"none\" stroke=\"black\" points=\"630.5,-68 434.5,-68 434.5,0 630.5,0 630.5,-68\"/>\n",
       "<text text-anchor=\"middle\" x=\"532.5\" y=\"-52.8\" font-family=\"Helvetica,sans-Serif\" font-size=\"14.00\">gini = 0.382</text>\n",
       "<text text-anchor=\"middle\" x=\"532.5\" y=\"-37.8\" font-family=\"Helvetica,sans-Serif\" font-size=\"14.00\">samples = 22</text>\n",
       "<text text-anchor=\"middle\" x=\"532.5\" y=\"-22.8\" font-family=\"Helvetica,sans-Serif\" font-size=\"14.00\">value = [31.457, 5.234, 4.218]</text>\n",
       "<text text-anchor=\"middle\" x=\"532.5\" y=\"-7.8\" font-family=\"Helvetica,sans-Serif\" font-size=\"14.00\">class = correct</text>\n",
       "</g>\n",
       "<!-- 4&#45;&gt;5 -->\n",
       "<g id=\"edge5\" class=\"edge\">\n",
       "<title>4&#45;&gt;5</title>\n",
       "<path fill=\"none\" stroke=\"black\" d=\"M535.01,-103.73C534.71,-95.52 534.39,-86.86 534.09,-78.56\"/>\n",
       "<polygon fill=\"black\" stroke=\"black\" points=\"537.58,-78.17 533.72,-68.3 530.58,-78.42 537.58,-78.17\"/>\n",
       "</g>\n",
       "<!-- 6 -->\n",
       "<g id=\"node7\" class=\"node\">\n",
       "<title>6</title>\n",
       "<polygon fill=\"none\" stroke=\"black\" points=\"844.5,-68 648.5,-68 648.5,0 844.5,0 844.5,-68\"/>\n",
       "<text text-anchor=\"middle\" x=\"746.5\" y=\"-52.8\" font-family=\"Helvetica,sans-Serif\" font-size=\"14.00\">gini = 0.137</text>\n",
       "<text text-anchor=\"middle\" x=\"746.5\" y=\"-37.8\" font-family=\"Helvetica,sans-Serif\" font-size=\"14.00\">samples = 34</text>\n",
       "<text text-anchor=\"middle\" x=\"746.5\" y=\"-22.8\" font-family=\"Helvetica,sans-Serif\" font-size=\"14.00\">value = [87.381, 2.617, 4.218]</text>\n",
       "<text text-anchor=\"middle\" x=\"746.5\" y=\"-7.8\" font-family=\"Helvetica,sans-Serif\" font-size=\"14.00\">class = correct</text>\n",
       "</g>\n",
       "<!-- 4&#45;&gt;6 -->\n",
       "<g id=\"edge6\" class=\"edge\">\n",
       "<title>4&#45;&gt;6</title>\n",
       "<path fill=\"none\" stroke=\"black\" d=\"M614.4,-103.88C633.95,-93.69 654.84,-82.79 674.11,-72.75\"/>\n",
       "<polygon fill=\"black\" stroke=\"black\" points=\"675.88,-75.77 683.13,-68.04 672.64,-69.56 675.88,-75.77\"/>\n",
       "</g>\n",
       "</g>\n",
       "</svg>\n"
      ],
      "text/plain": [
       "<graphviz.sources.Source at 0x7f3d654eb070>"
      ]
     },
     "execution_count": 45,
     "metadata": {},
     "output_type": "execute_result"
    }
   ],
   "source": [
    "# Визуализируем\n",
    "import graphviz \n",
    "dot_data = tree.export_graphviz(clf_tree, out_file=None, class_names=['correct', 'operator', 'reask']) \n",
    "graph = graphviz.Source(dot_data) \n",
    "graph"
   ]
  },
  {
   "cell_type": "code",
   "execution_count": 50,
   "id": "baa95bf6",
   "metadata": {},
   "outputs": [
    {
     "name": "stdout",
     "output_type": "stream",
     "text": [
      "Tree classifier has 0.73 accuracy on the training data\n"
     ]
    }
   ],
   "source": [
    "# Посчитаем balanced accuracy для обученного дерева\n",
    "y_pred = clf_tree.predict(X_train)\n",
    "accuracy = balanced_accuracy_score(table['Action'], y_pred)\n",
    "print(\"Tree classifier has %0.2f accuracy on the training data\" % (accuracy))"
   ]
  },
  {
   "cell_type": "code",
   "execution_count": 37,
   "id": "6cbfa3a1",
   "metadata": {},
   "outputs": [],
   "source": [
    "# Классификатор очень простой, поэтому таскать его в виде объекта scikit-learn необязательно\n",
    "def decide(score):\n",
    "    if score > 100:\n",
    "        raise ValueError('Score is greater than 100')\n",
    "    if score < 0:\n",
    "        raise ValueError('Score is negative')\n",
    "    if score > 76.7:\n",
    "        return 'correct'\n",
    "    elif score > 28.6:\n",
    "        return 'reask'\n",
    "    else:\n",
    "        return 'operator'    "
   ]
  }
 ],
 "metadata": {
  "kernelspec": {
   "display_name": "Python 3 (ipykernel)",
   "language": "python",
   "name": "python3"
  },
  "language_info": {
   "codemirror_mode": {
    "name": "ipython",
    "version": 3
   },
   "file_extension": ".py",
   "mimetype": "text/x-python",
   "name": "python",
   "nbconvert_exporter": "python",
   "pygments_lexer": "ipython3",
   "version": "3.10.6"
  }
 },
 "nbformat": 4,
 "nbformat_minor": 5
}
